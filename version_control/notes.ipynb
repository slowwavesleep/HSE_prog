{
 "cells": [
  {
   "cell_type": "code",
   "execution_count": 28,
   "metadata": {},
   "outputs": [],
   "source": [
    "import os\n",
    "import sys \n",
    "import time \n",
    "from datetime import datetime \n",
    "from difflib import ndiff, unified_diff "
   ]
  },
  {
   "cell_type": "code",
   "execution_count": 29,
   "metadata": {},
   "outputs": [],
   "source": [
    "# def path_time(path, original=True):\n",
    "#     time_ch = os.path.getmtime(path)\n",
    "#     time_ch = datetime.fromtimestamp(time_ch).strftime('%Y-%m-%d %H:%M:%S.%f')\\\n",
    "#               + time.strftime('%Y %z', time.localtime(time_ch))\n",
    "#     time_ch = f'{path}    {time_ch}' + '\\n'\n",
    "#     if original:\n",
    "#         time_ch = '--- ' + time_ch\n",
    "#     else:\n",
    "#         time_ch = '+++ ' + time_ch\n",
    "#     return time_ch"
   ]
  },
  {
   "cell_type": "code",
   "execution_count": 30,
   "metadata": {},
   "outputs": [],
   "source": [
    "# def udiff(path1, path2):\n",
    "#     result = []\n",
    "#     with open(path1) as file1, open(path2) as file2:\n",
    "#         lines1 = file1.readlines()\n",
    "#         lines2 = file2.readlines()\n",
    "#     result.append(path_time(path1))\n",
    "#     result.append(path_time(path2, original=False))\n",
    "#     result.append(f'@@ -1,{len(lines1)} +1,{len(lines2)} @@\\n')\n",
    "#     for line in ndiff(lines1, lines2):\n",
    "#         result.append(line)\n",
    "#     return result"
   ]
  },
  {
   "cell_type": "code",
   "execution_count": 67,
   "metadata": {},
   "outputs": [],
   "source": [
    "def path_time(path):\n",
    "    time_ch = os.path.getmtime(path)\n",
    "    time_ch = datetime.fromtimestamp(time_ch).strftime('%Y-%m-%d %H:%M:%S.%f')\\\n",
    "              + time.strftime(' %z', time.localtime(time_ch))\n",
    "    return time_ch"
   ]
  },
  {
   "cell_type": "code",
   "execution_count": 68,
   "metadata": {},
   "outputs": [],
   "source": [
    "def udiff(path1, path2):\n",
    "    with open(path1) as file1, open(path2) as file2:\n",
    "        lines1 = file1.readlines()\n",
    "        lines2 = file2.readlines()\n",
    "    date1, date2 = path_time(path1), path_time(path2) \n",
    "    return unified_diff(lines1, lines2, fromfile=path1, tofile=path2,\n",
    "                       fromfiledate=date1, tofiledate=date2)"
   ]
  },
  {
   "cell_type": "code",
   "execution_count": 69,
   "metadata": {},
   "outputs": [
    {
     "name": "stdout",
     "output_type": "stream",
     "text": [
      "--- m1.txt\t2019-11-06 22:28:44.357825 +0300\n",
      "+++ m2.txt\t2019-11-06 21:45:48.675624 +0300\n",
      "@@ -1,5 +1,4 @@\n",
      " abcd\n",
      "-1234\n",
      "+4321\n",
      " efgh\n",
      "-xxxx\n",
      "-cccc\n",
      "+bbbb\n",
      "\n"
     ]
    }
   ],
   "source": [
    "print(''.join(udiff('m1.txt', 'm2.txt')))"
   ]
  },
  {
   "cell_type": "code",
   "execution_count": 85,
   "metadata": {},
   "outputs": [],
   "source": [
    "def get_list_of_files(path):\n",
    "    list_of_files = os.listdir(path)\n",
    "    all_files = []\n",
    "    for file in list_of_files:\n",
    "        full_path = os.path.join(path, file)\n",
    "        if os.path.isdir(full_path):\n",
    "            all_files = all_files + get_list_of_files(full_path)\n",
    "        else:\n",
    "            all_files.append(full_path)\n",
    "                \n",
    "    return all_files"
   ]
  },
  {
   "cell_type": "code",
   "execution_count": null,
   "metadata": {},
   "outputs": [],
   "source": []
  }
 ],
 "metadata": {
  "kernelspec": {
   "display_name": "Python 3",
   "language": "python",
   "name": "python3"
  },
  "language_info": {
   "codemirror_mode": {
    "name": "ipython",
    "version": 3
   },
   "file_extension": ".py",
   "mimetype": "text/x-python",
   "name": "python",
   "nbconvert_exporter": "python",
   "pygments_lexer": "ipython3",
   "version": "3.7.1"
  }
 },
 "nbformat": 4,
 "nbformat_minor": 2
}
