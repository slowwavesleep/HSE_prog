{
 "cells": [
  {
   "cell_type": "code",
   "execution_count": 5,
   "metadata": {},
   "outputs": [],
   "source": [
    "import os\n",
    "import sys \n",
    "import time \n",
    "from datetime import datetime \n",
    "from difflib import ndiff "
   ]
  },
  {
   "cell_type": "code",
   "execution_count": 121,
   "metadata": {},
   "outputs": [],
   "source": [
    "def path_time(path, original=True):\n",
    "    time_ch = os.path.getmtime(path)\n",
    "    time_ch = datetime.fromtimestamp(time_ch).strftime('%Y-%m-%d %H:%M:%S.%f')\\\n",
    "              + time.strftime('%Y %z', time.localtime(time_ch))\n",
    "    time_ch = f'{path}    {time_ch}' + '\\n'\n",
    "    if original:\n",
    "        time_ch = '--- ' + time_ch\n",
    "    else:\n",
    "        time_ch = '+++ ' + time_ch\n",
    "    return time_ch"
   ]
  },
  {
   "cell_type": "code",
   "execution_count": 128,
   "metadata": {},
   "outputs": [],
   "source": [
    "def udiff(path1, path2):\n",
    "    result = []\n",
    "    with open(path1) as file1, open(path2) as file2:\n",
    "        lines1 = file1.readlines()\n",
    "        lines2 = file2.readlines()\n",
    "    result.append(path_time(path1))\n",
    "    result.append(path_time(path2, original=False))\n",
    "    result.append(f'@@ -1,{len(lines1)} +1,{len(lines2)} @@\\n')\n",
    "    for line in ndiff(lines1, lines2):\n",
    "        result.append(line)\n",
    "    return result"
   ]
  },
  {
   "cell_type": "code",
   "execution_count": 129,
   "metadata": {},
   "outputs": [
    {
     "name": "stdout",
     "output_type": "stream",
     "text": [
      "--- m1.txt    2019-11-06 22:28:44.3578252019 +0300\n",
      "+++ m2.txt    2019-11-06 21:45:48.6756242019 +0300\n",
      "@@ -1,5 +1,4 @@\n",
      "  abcd\n",
      "- 1234\n",
      "+ 4321\n",
      "  efgh\n",
      "+ bbbb\n",
      "- xxxx\n",
      "- cccc\n",
      "\n"
     ]
    }
   ],
   "source": [
    "print(''.join(udiff('m1.txt', 'm2.txt')))"
   ]
  },
  {
   "cell_type": "code",
   "execution_count": null,
   "metadata": {},
   "outputs": [],
   "source": []
  }
 ],
 "metadata": {
  "kernelspec": {
   "display_name": "Python 3",
   "language": "python",
   "name": "python3"
  },
  "language_info": {
   "codemirror_mode": {
    "name": "ipython",
    "version": 3
   },
   "file_extension": ".py",
   "mimetype": "text/x-python",
   "name": "python",
   "nbconvert_exporter": "python",
   "pygments_lexer": "ipython3",
   "version": "3.7.1"
  }
 },
 "nbformat": 4,
 "nbformat_minor": 2
}
